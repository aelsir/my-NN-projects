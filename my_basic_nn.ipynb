{
  "nbformat": 4,
  "nbformat_minor": 0,
  "metadata": {
    "colab": {
      "name": "my_basic_nn.ipynb",
      "provenance": [],
      "collapsed_sections": [],
      "authorship_tag": "ABX9TyNHHYcwDfsjzTRXSo1gR9cV",
      "include_colab_link": true
    },
    "kernelspec": {
      "name": "python3",
      "display_name": "Python 3"
    }
  },
  "cells": [
    {
      "cell_type": "markdown",
      "metadata": {
        "id": "view-in-github",
        "colab_type": "text"
      },
      "source": [
        "<a href=\"https://colab.research.google.com/github/aelsir/my-NN-projects/blob/master/my_basic_nn.ipynb\" target=\"_parent\"><img src=\"https://colab.research.google.com/assets/colab-badge.svg\" alt=\"Open In Colab\"/></a>"
      ]
    },
    {
      "cell_type": "code",
      "metadata": {
        "id": "_R3ClQHmki91",
        "colab_type": "code",
        "colab": {
          "base_uri": "https://localhost:8080/",
          "height": 34
        },
        "outputId": "9a978caf-b54d-488d-de34-317c33033b64"
      },
      "source": [
        "import tensorflow as tf\n",
        "print(tf.__version__)"
      ],
      "execution_count": null,
      "outputs": [
        {
          "output_type": "stream",
          "text": [
            "2.3.0\n"
          ],
          "name": "stdout"
        }
      ]
    },
    {
      "cell_type": "code",
      "metadata": {
        "id": "lSXAkc9Ek1B6",
        "colab_type": "code",
        "colab": {}
      },
      "source": [
        "#define our score function\n",
        "\n",
        "class MyDenseLayer(tf.keras.layers.Layer):\n",
        "  def __init__(self, input_dim, output_dim):\n",
        "    super(MyDenseLayer, self).__init__()\n",
        "\n",
        "    #initilize weight and biases\n",
        "    self.W = self.add_weights([input_dim, output_dim])\n",
        "    self.b = self.add_weights([1, output_dim])\n",
        "\n",
        "  def call(self, input):\n",
        "    z = tf.matmul(input, self.W) + self.b\n",
        "\n",
        "    output = tf.math.sigmoid(z)\n",
        "\n",
        "    return(output)\n",
        "\n",
        "    "
      ],
      "execution_count": null,
      "outputs": []
    },
    {
      "cell_type": "code",
      "metadata": {
        "id": "jiClJ5ASmwqo",
        "colab_type": "code",
        "colab": {
          "base_uri": "https://localhost:8080/",
          "height": 1000
        },
        "outputId": "d3552c96-7f55-4ef6-8921-317be6b61344"
      },
      "source": [
        "#test the tf.matmul function\n",
        "\n",
        "x = tf.random.uniform(shape=[5, 5], minval=0, maxval=10)\n",
        "w = tf.random.uniform(shape=[5, 5, 10])\n",
        "print(\"the x and it's shape:\", x, x.shape)\n",
        "print(\"the w and it's shape: \", w, w.shape)\n",
        "\n",
        "print(\"the shape of the output is\", tf.linalg.matmul(x, w).shape)"
      ],
      "execution_count": null,
      "outputs": [
        {
          "output_type": "stream",
          "text": [
            "the x and it's shape: tf.Tensor(\n",
            "[[0.91269374 2.111367   9.294629   7.509098   9.034715  ]\n",
            " [6.5435624  3.601278   5.7909656  9.340945   2.9895747 ]\n",
            " [3.23447    8.96556    9.081969   9.147806   0.9593046 ]\n",
            " [0.6537163  4.701102   5.2715216  7.6186094  6.454159  ]\n",
            " [2.2335243  7.071229   4.999995   8.581467   4.096423  ]], shape=(5, 5), dtype=float32) (5, 5)\n",
            "the w and it's shape:  tf.Tensor(\n",
            "[[[0.8699603  0.16764295 0.8420342  0.2346102  0.7679665  0.34766877\n",
            "   0.48574424 0.5123366  0.16995335 0.7361424 ]\n",
            "  [0.4361112  0.31604707 0.5124972  0.9699662  0.79414785 0.9893501\n",
            "   0.22031724 0.70569885 0.4263755  0.24541783]\n",
            "  [0.1864773  0.2460593  0.21033978 0.52393866 0.10876679 0.17194986\n",
            "   0.31096768 0.94412637 0.94789255 0.56380045]\n",
            "  [0.8363422  0.42604375 0.6021378  0.6755189  0.85621965 0.3593676\n",
            "   0.2263112  0.42917633 0.46136665 0.39689767]\n",
            "  [0.8867941  0.00300825 0.17735195 0.34096456 0.918154   0.03931499\n",
            "   0.87696064 0.24084163 0.10235071 0.37362218]]\n",
            "\n",
            " [[0.97726965 0.90065193 0.41784024 0.6707107  0.7728503  0.8650497\n",
            "   0.60274637 0.5068424  0.39109254 0.6803131 ]\n",
            "  [0.9618275  0.38398647 0.9441575  0.85449505 0.43653512 0.4281485\n",
            "   0.96122694 0.83834124 0.24264836 0.5397521 ]\n",
            "  [0.1323843  0.15293586 0.03982973 0.9115764  0.17774498 0.32003033\n",
            "   0.99565506 0.06709933 0.97232294 0.44782758]\n",
            "  [0.3700632  0.19253588 0.16144013 0.75397277 0.78070116 0.20469153\n",
            "   0.68208957 0.11366951 0.5707569  0.81980824]\n",
            "  [0.536862   0.93718195 0.9851408  0.7944144  0.84709764 0.05837536\n",
            "   0.33744228 0.79647064 0.9193418  0.7639289 ]]\n",
            "\n",
            " [[0.04206884 0.08339751 0.15870154 0.75639534 0.26676702 0.26426005\n",
            "   0.43379068 0.19515407 0.01261258 0.8020278 ]\n",
            "  [0.5345012  0.9027797  0.0607481  0.06309426 0.8583647  0.36676657\n",
            "   0.8172226  0.8199965  0.6485528  0.7026175 ]\n",
            "  [0.78270996 0.41900575 0.76221275 0.258299   0.14329422 0.6293789\n",
            "   0.7191901  0.16028607 0.88628066 0.2822969 ]\n",
            "  [0.07190323 0.75335467 0.6400454  0.58594024 0.8964492  0.29424548\n",
            "   0.40674603 0.22880435 0.32191765 0.02946961]\n",
            "  [0.13689601 0.5581869  0.03387058 0.8420807  0.25139976 0.9566791\n",
            "   0.5265949  0.61200976 0.6478815  0.8121164 ]]\n",
            "\n",
            " [[0.33249807 0.24341643 0.17297792 0.145823   0.12672043 0.87510824\n",
            "   0.78453207 0.52952003 0.42862427 0.9940839 ]\n",
            "  [0.9932802  0.6009563  0.6654208  0.58298457 0.38260996 0.19458914\n",
            "   0.22182333 0.7448249  0.17775941 0.7508153 ]\n",
            "  [0.01303196 0.4831004  0.69655275 0.5125177  0.4079486  0.89618826\n",
            "   0.87256086 0.41618955 0.7428273  0.23557723]\n",
            "  [0.974242   0.4983964  0.44746697 0.5857307  0.04151702 0.9912307\n",
            "   0.11069596 0.17087138 0.3566537  0.12179756]\n",
            "  [0.02697217 0.09990025 0.74754107 0.96812105 0.31247663 0.5595225\n",
            "   0.8519367  0.57874084 0.8915447  0.15497541]]\n",
            "\n",
            " [[0.92105603 0.39669394 0.9642209  0.3168862  0.51796985 0.47550166\n",
            "   0.09921193 0.49905992 0.07808256 0.77245307]\n",
            "  [0.03985393 0.5466633  0.36265588 0.91687214 0.79282975 0.9000068\n",
            "   0.92870486 0.02398598 0.4178126  0.6786941 ]\n",
            "  [0.3527466  0.61238885 0.68525815 0.8507366  0.08759606 0.48733175\n",
            "   0.9440738  0.45421958 0.49719954 0.39487576]\n",
            "  [0.76048434 0.5472863  0.8172656  0.81524587 0.45076704 0.6439167\n",
            "   0.55307925 0.9579085  0.7407508  0.31656313]\n",
            "  [0.75291    0.8023981  0.7747575  0.4202721  0.78406155 0.44696975\n",
            "   0.37560236 0.98373604 0.6315359  0.35683036]]], shape=(5, 5, 10), dtype=float32) (5, 5, 10)\n",
            "the shape of the output is (5, 5, 10)\n"
          ],
          "name": "stdout"
        }
      ]
    },
    {
      "cell_type": "markdown",
      "metadata": {
        "id": "TXd9YtTj50BA",
        "colab_type": "text"
      },
      "source": [
        "#1 MODEL, predict the number we write"
      ]
    },
    {
      "cell_type": "code",
      "metadata": {
        "id": "eOW5vRIA_ekP",
        "colab_type": "code",
        "colab": {
          "base_uri": "https://localhost:8080/",
          "height": 54
        },
        "outputId": "adfee3a1-901b-4f2d-b55d-237865aac8d3"
      },
      "source": [
        "#import tensorflow as tf\n",
        "import tensorflow as tf\n",
        "import tensorflow_datasets as tfds\n",
        "import matplotlib.pyplot as plt\n",
        "\n",
        "print(tfds.list_builders())"
      ],
      "execution_count": null,
      "outputs": [
        {
          "output_type": "stream",
          "text": [
            "['abstract_reasoning', 'aeslc', 'aflw2k3d', 'amazon_us_reviews', 'arc', 'bair_robot_pushing_small', 'beans', 'big_patent', 'bigearthnet', 'billsum', 'binarized_mnist', 'binary_alpha_digits', 'c4', 'caltech101', 'caltech_birds2010', 'caltech_birds2011', 'cars196', 'cassava', 'cats_vs_dogs', 'celeb_a', 'celeb_a_hq', 'cfq', 'chexpert', 'cifar10', 'cifar100', 'cifar10_1', 'cifar10_corrupted', 'citrus_leaves', 'cityscapes', 'civil_comments', 'clevr', 'cmaterdb', 'cnn_dailymail', 'coco', 'coil100', 'colorectal_histology', 'colorectal_histology_large', 'cos_e', 'curated_breast_imaging_ddsm', 'cycle_gan', 'deep_weeds', 'definite_pronoun_resolution', 'diabetic_retinopathy_detection', 'div2k', 'dmlab', 'downsampled_imagenet', 'dsprites', 'dtd', 'duke_ultrasound', 'dummy_dataset_shared_generator', 'dummy_mnist', 'emnist', 'eraser_multi_rc', 'esnli', 'eurosat', 'fashion_mnist', 'flic', 'flores', 'food101', 'gap', 'gigaword', 'glue', 'groove', 'higgs', 'horses_or_humans', 'i_naturalist2017', 'image_label_folder', 'imagenet2012', 'imagenet2012_corrupted', 'imagenet_resized', 'imagenette', 'imagewang', 'imdb_reviews', 'iris', 'kitti', 'kmnist', 'lfw', 'librispeech', 'librispeech_lm', 'libritts', 'lm1b', 'lost_and_found', 'lsun', 'malaria', 'math_dataset', 'mnist', 'mnist_corrupted', 'movie_rationales', 'moving_mnist', 'multi_news', 'multi_nli', 'multi_nli_mismatch', 'natural_questions', 'newsroom', 'nsynth', 'omniglot', 'open_images_v4', 'opinosis', 'oxford_flowers102', 'oxford_iiit_pet', 'para_crawl', 'patch_camelyon', 'pet_finder', 'places365_small', 'plant_leaves', 'plant_village', 'plantae_k', 'qa4mre', 'quickdraw_bitmap', 'reddit_tifu', 'resisc45', 'rock_paper_scissors', 'rock_you', 'scan', 'scene_parse150', 'scicite', 'scientific_papers', 'shapes3d', 'smallnorb', 'snli', 'so2sat', 'speech_commands', 'squad', 'stanford_dogs', 'stanford_online_products', 'starcraft_video', 'sun397', 'super_glue', 'svhn_cropped', 'ted_hrlr_translate', 'ted_multi_translate', 'tf_flowers', 'the300w_lp', 'tiny_shakespeare', 'titanic', 'trivia_qa', 'uc_merced', 'ucf101', 'vgg_face2', 'visual_domain_decathlon', 'voc', 'wider_face', 'wikihow', 'wikipedia', 'wmt14_translate', 'wmt15_translate', 'wmt16_translate', 'wmt17_translate', 'wmt18_translate', 'wmt19_translate', 'wmt_t2t_translate', 'wmt_translate', 'xnli', 'xsum', 'yelp_polarity_reviews']\n"
          ],
          "name": "stdout"
        }
      ]
    },
    {
      "cell_type": "code",
      "metadata": {
        "id": "I8x7hYfI57Lt",
        "colab_type": "code",
        "colab": {
          "base_uri": "https://localhost:8080/",
          "height": 648
        },
        "outputId": "865e4d59-5763-488d-a177-c4ad0df4a578"
      },
      "source": [
        "#import MNIST dataset of numbers to tensorflow and split it into training and testing\n",
        "(x_train, y_train), (x_test, y_test) = tf.keras.datasets.mnist.load_data()\n",
        "\n",
        "print('the shape of one training example is: ', x_train[0].shape)\n",
        "\n",
        "#check the shape or any refindment to the dataset\n",
        "x_train = x_train / 255.0\n",
        "x_test = x_test / 255.0\n",
        "\n",
        "#visulize the first 10 images of the dataset with title = lable\n",
        "plt.figure()\n",
        "f, axarr = plt.subplots(2,5)\n",
        "count = 0\n",
        "for i in range(2):\n",
        "  for j in range(5):\n",
        "    axarr[i, j].imshow(x_train[count], cmap='gray')\n",
        "    axarr[i, j].set_title(y_train[count])\n",
        "    count += 1\n",
        "\n",
        "#create a model that have a single hiddlen layers and output layer of 10, and compile the model\n",
        "num_class = 10\n",
        "input_shape = 28*28\n",
        "\n",
        "model = tf.keras.Sequential([\n",
        "                             tf.keras.layers.Flatten(input_shape=(28, 28)),\n",
        "                             tf.keras.layers.Dense(50, activation='relu'),\n",
        "                             tf.keras.layers.Dense(10)\n",
        "])\n",
        "\n",
        "model.compile(optimizer='adam', \n",
        "              loss=tf.keras.losses.SparseCategoricalCrossentropy(from_logits=True),\n",
        "              metrics=['accuracy'])\n",
        "\n",
        "#initilize the weight and the bias for our neural network\n",
        "\n",
        "#fit the training model\n",
        "model.fit(x_train, y_train, epochs=10)\n",
        "\n",
        "#calculate the accuracty on the test set\n",
        "test_loss, test_acc = model.evaluate(x_test, y_test, verbose=2)\n",
        "print('the accuracy of the model on the test set = ', test_acc)"
      ],
      "execution_count": null,
      "outputs": [
        {
          "output_type": "stream",
          "text": [
            "the shape of one training example is:  (28, 28)\n",
            "Epoch 1/10\n",
            "1875/1875 [==============================] - 3s 2ms/step - loss: 0.3248 - accuracy: 0.9088\n",
            "Epoch 2/10\n",
            "1875/1875 [==============================] - 3s 2ms/step - loss: 0.1663 - accuracy: 0.9517\n",
            "Epoch 3/10\n",
            "1875/1875 [==============================] - 5s 2ms/step - loss: 0.1217 - accuracy: 0.9639\n",
            "Epoch 4/10\n",
            "1875/1875 [==============================] - 4s 2ms/step - loss: 0.0966 - accuracy: 0.9712\n",
            "Epoch 5/10\n",
            "1875/1875 [==============================] - 3s 2ms/step - loss: 0.0798 - accuracy: 0.9753\n",
            "Epoch 6/10\n",
            "1875/1875 [==============================] - 3s 2ms/step - loss: 0.0677 - accuracy: 0.9793\n",
            "Epoch 7/10\n",
            "1875/1875 [==============================] - 3s 2ms/step - loss: 0.0598 - accuracy: 0.9811\n",
            "Epoch 8/10\n",
            "1875/1875 [==============================] - 4s 2ms/step - loss: 0.0516 - accuracy: 0.9840\n",
            "Epoch 9/10\n",
            "1875/1875 [==============================] - 3s 2ms/step - loss: 0.0464 - accuracy: 0.9853\n",
            "Epoch 10/10\n",
            "1875/1875 [==============================] - 3s 2ms/step - loss: 0.0403 - accuracy: 0.9873\n",
            "313/313 - 0s - loss: 0.1001 - accuracy: 0.9715\n",
            "the accuracy of the model on the test set =  0.9714999794960022\n"
          ],
          "name": "stdout"
        },
        {
          "output_type": "display_data",
          "data": {
            "text/plain": [
              "<Figure size 432x288 with 0 Axes>"
            ]
          },
          "metadata": {
            "tags": []
          }
        },
        {
          "output_type": "display_data",
          "data": {
            "image/png": "[encoded data removed]",
            "text/plain": [
              "<Figure size 432x288 with 10 Axes>"
            ]
          },
          "metadata": {
            "tags": [],
            "needs_background": "light"
          }
        }
      ]
    },
    {
      "cell_type": "code",
      "metadata": {
        "id": "3jICg-qzB6Om",
        "colab_type": "code",
        "colab": {
          "base_uri": "https://localhost:8080/",
          "height": 88
        },
        "outputId": "f2417633-98c1-4fa6-b17f-11c3fe04221c"
      },
      "source": [
        "import numpy as np\n",
        "\n",
        "#make prediction \n",
        "prob_model = tf.keras.Sequential([model, tf.keras.layers.Softmax()])\n",
        "\n",
        "new_img = x_train[1]\n",
        "new_img = tf.reshape(new_img, shape=[1, 28, 28])\n",
        "predictions = prob_model.predict(new_img)\n",
        "print(np.argmax(predictions[0]))\n",
        "#train our data\n",
        "\n",
        "#compute the loss of the data \n",
        "\n",
        "# optimize the data"
      ],
      "execution_count": null,
      "outputs": [
        {
          "output_type": "stream",
          "text": [
            "WARNING:tensorflow:9 out of the last 12 calls to <function Model.make_predict_function.<locals>.predict_function at 0x7ff1748fd268> triggered tf.function retracing. Tracing is expensive and the excessive number of tracings could be due to (1) creating @tf.function repeatedly in a loop, (2) passing tensors with different shapes, (3) passing Python objects instead of tensors. For (1), please define your @tf.function outside of the loop. For (2), @tf.function has experimental_relax_shapes=True option that relaxes argument shapes that can avoid unnecessary retracing. For (3), please refer to https://www.tensorflow.org/tutorials/customization/performance#python_or_tensor_args and https://www.tensorflow.org/api_docs/python/tf/function for  more details.\n"
          ],
          "name": "stdout"
        },
        {
          "output_type": "stream",
          "text": [
            "WARNING:tensorflow:9 out of the last 12 calls to <function Model.make_predict_function.<locals>.predict_function at 0x7ff1748fd268> triggered tf.function retracing. Tracing is expensive and the excessive number of tracings could be due to (1) creating @tf.function repeatedly in a loop, (2) passing tensors with different shapes, (3) passing Python objects instead of tensors. For (1), please define your @tf.function outside of the loop. For (2), @tf.function has experimental_relax_shapes=True option that relaxes argument shapes that can avoid unnecessary retracing. For (3), please refer to https://www.tensorflow.org/tutorials/customization/performance#python_or_tensor_args and https://www.tensorflow.org/api_docs/python/tf/function for  more details.\n"
          ],
          "name": "stderr"
        },
        {
          "output_type": "stream",
          "text": [
            "0\n"
          ],
          "name": "stdout"
        }
      ]
    },
    {
      "cell_type": "code",
      "metadata": {
        "id": "YjDLENv75GpA",
        "colab_type": "code",
        "colab": {
          "base_uri": "https://localhost:8080/",
          "height": 105
        },
        "outputId": "f8c0338d-d40e-4c1f-bd39-7613c4e414f6"
      },
      "source": [
        "import cv2\n",
        "\n",
        "# read image\n",
        "img = cv2.imread('the nine.png', cv2.IMREAD_UNCHANGED)\n",
        "img_tensor = tf.convert_to_tensor(img)\n",
        "img_tensor = img_tensor / 255\n",
        "nine_img = tf.reshape(img_tensor, shape=[1, 28, 28])\n",
        "print('the shape of my new nine image is:', nine_img.shape)\n",
        "predictionss = prob_model.predict(nine_img)\n",
        "print(np.argmax(predictionss))\n",
        "\n"
      ],
      "execution_count": null,
      "outputs": [
        {
          "output_type": "stream",
          "text": [
            "the shape of my new nine image is: (1, 28, 28)\n",
            "WARNING:tensorflow:10 out of the last 13 calls to <function Model.make_predict_function.<locals>.predict_function at 0x7ff1748fd268> triggered tf.function retracing. Tracing is expensive and the excessive number of tracings could be due to (1) creating @tf.function repeatedly in a loop, (2) passing tensors with different shapes, (3) passing Python objects instead of tensors. For (1), please define your @tf.function outside of the loop. For (2), @tf.function has experimental_relax_shapes=True option that relaxes argument shapes that can avoid unnecessary retracing. For (3), please refer to https://www.tensorflow.org/tutorials/customization/performance#python_or_tensor_args and https://www.tensorflow.org/api_docs/python/tf/function for  more details.\n"
          ],
          "name": "stdout"
        },
        {
          "output_type": "stream",
          "text": [
            "WARNING:tensorflow:10 out of the last 13 calls to <function Model.make_predict_function.<locals>.predict_function at 0x7ff1748fd268> triggered tf.function retracing. Tracing is expensive and the excessive number of tracings could be due to (1) creating @tf.function repeatedly in a loop, (2) passing tensors with different shapes, (3) passing Python objects instead of tensors. For (1), please define your @tf.function outside of the loop. For (2), @tf.function has experimental_relax_shapes=True option that relaxes argument shapes that can avoid unnecessary retracing. For (3), please refer to https://www.tensorflow.org/tutorials/customization/performance#python_or_tensor_args and https://www.tensorflow.org/api_docs/python/tf/function for  more details.\n"
          ],
          "name": "stderr"
        },
        {
          "output_type": "stream",
          "text": [
            "8\n"
          ],
          "name": "stdout"
        }
      ]
    }
  ]
}